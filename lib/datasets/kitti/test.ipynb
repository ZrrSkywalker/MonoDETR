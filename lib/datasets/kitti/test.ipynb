{
 "cells": [
  {
   "cell_type": "code",
   "execution_count": 2,
   "metadata": {},
   "outputs": [],
   "source": [
    "import torch\n",
    "import numpy as np\n",
    "\n",
    "whl = torch.ones(44, 3)\n",
    "ry = torch.zeros(44, 1)\n",
    "pos = torch.zeros(44, 3)"
   ]
  },
  {
   "cell_type": "code",
   "execution_count": 15,
   "metadata": {},
   "outputs": [],
   "source": [
    "def generate_corners3d(whl:np.ndarray, ry:float=0.0, pos:np.ndarray=np.array([0, 0, 0])):\n",
    "        \"\"\"\n",
    "        Generates a representation of 3D bounding box(es) as 8 corners in camera coordinates.\n",
    "        x is lenght, y is height, z is width.\n",
    "        The box's center is at (0, 0, 0) in camera coordinates.\n",
    "        Assumes rotation around y-axis.\n",
    "          1 -------- 0\n",
    "         /|         /|\n",
    "        2 -------- 3 .\n",
    "        | |        | |\n",
    "        . 4 -------- 3\n",
    "        |/         |/\n",
    "        1 -------- 2\n",
    "        ---\n",
    "        y\n",
    "        | x\n",
    "        |/\n",
    "        O ---> z\n",
    "        -\n",
    "        :param whl: np.ndarray, (n,3) width, height, length of the n boxes\n",
    "        :param ry: float, rotation around y-axis\n",
    "        :param pos: np.ndarray, (3,) position of the n boxes's center\n",
    "\n",
    "        :return corners_3d: (8, 3) corners of box3d in camera coords\n",
    "        \"\"\"\n",
    "\n",
    "        w,h,l = whl.cpu().numpy().T\n",
    "        x_corners = np.array([-l / 2, -l / 2, l / 2, l / 2, -l / 2, -l / 2, l / 2, l / 2]).T\n",
    "        y_corners = np.array([np.zeros_like(h), np.zeros_like(h), np.zeros_like(h), np.zeros_like(h), h, h, h, h]).T\n",
    "        z_corners = np.array([-w / 2, w / 2, w / 2, -w / 2, -w / 2, w / 2, w / 2, -w / 2]).T\n",
    "\n",
    "        corners3d = np.stack([x_corners, y_corners, z_corners], axis=2) # (n, 8, 3)\n",
    "\n",
    "        # R = np.array([[np.cos(ry), np.zeros_like(ry), np.sin(ry)],\n",
    "        #               [np.zeros_like(ry), 1, np.zeros_like(ry)],\n",
    "        #               [-np.sin(ry), np.zeros_like(ry), np.cos(ry)]])\n",
    "        # corners3d = np.dot(R, corners3d).T\n",
    "        # corners3d = corners3d + pos\n",
    "        return corners3d"
   ]
  },
  {
   "cell_type": "code",
   "execution_count": 16,
   "metadata": {},
   "outputs": [],
   "source": [
    "box_corners = generate_corners3d(whl, ry, pos)"
   ]
  },
  {
   "cell_type": "code",
   "execution_count": 19,
   "metadata": {},
   "outputs": [
    {
     "data": {
      "text/plain": [
       "(44, 8, 3)"
      ]
     },
     "execution_count": 19,
     "metadata": {},
     "output_type": "execute_result"
    }
   ],
   "source": [
    "box_corners.shape"
   ]
  }
 ],
 "metadata": {
  "kernelspec": {
   "display_name": "adlcv",
   "language": "python",
   "name": "python3"
  },
  "language_info": {
   "codemirror_mode": {
    "name": "ipython",
    "version": 3
   },
   "file_extension": ".py",
   "mimetype": "text/x-python",
   "name": "python",
   "nbconvert_exporter": "python",
   "pygments_lexer": "ipython3",
   "version": "3.8.18"
  }
 },
 "nbformat": 4,
 "nbformat_minor": 2
}
